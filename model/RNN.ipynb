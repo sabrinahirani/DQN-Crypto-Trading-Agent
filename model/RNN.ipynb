{
 "cells": [
  {
   "cell_type": "code",
   "execution_count": null,
   "metadata": {},
   "outputs": [],
   "source": [
    "import torch\n",
    "import torch.nn as nn\n",
    "import matplotlib.pyplot as plt\n",
    "import pandas as pd\n",
    "import pandas_ta as ta\n",
    "import numpy as np"
   ]
  },
  {
   "cell_type": "code",
   "execution_count": null,
   "metadata": {},
   "outputs": [],
   "source": [
    "# load data\n",
    "data = pd.read_csv(\"./data/BTC-USD-1d.csv\")\n",
    "\n",
    "# data preprocessing\n",
    "\n",
    "data['RSI'] = ta.rsi(data.Close, length=15)\n",
    "data['EMAF'] = ta.ema(data.Close, length=10)\n",
    "data['EMAM'] = ta.ema(data['Close'], length=100)\n",
    "data['EMAS'] = ta.ema(data['Close'], length=150)\n",
    "data.ta.bbands(close='Close', length=20, std=2, append=True)\n",
    "pd.set_option(\"display.max_columns\", None)\n",
    "\n",
    "data['Target'] = data['Adj Close'] - data['Open']\n",
    "data['Target'] = data['Target'].shift(-1)\n",
    "data['TargetNextClose'] = data['Adj Close'].shift(-1)\n",
    "\n",
    "# TODO clean\n",
    "data.dropna(inplace=True)\n",
    "data.reset_index(inplace=True)\n",
    "data.drop(['Volume', 'Close', 'Date'], axis=1, inplace=True)\n",
    "dataset = data.iloc[:, 0:len(data.columns)]"
   ]
  },
  {
   "cell_type": "code",
   "execution_count": null,
   "metadata": {},
   "outputs": [],
   "source": [
    "# data scaling \n",
    "min_vals = dataset.min()\n",
    "max_vals = dataset.max()\n",
    "dataset = (dataset - min_vals) / (max_vals - min_vals)"
   ]
  },
  {
   "cell_type": "code",
   "execution_count": null,
   "metadata": {},
   "outputs": [],
   "source": [
    "# TODO feature engineering\n",
    "backcandles = 30\n",
    "X = []\n",
    "for j in range(8):\n",
    "    X.append([])\n",
    "    for i in range(backcandles, len(dataset)):\n",
    "        X[j].append(dataset.iloc[i - backcandles:i, j].values)\n",
    "\n",
    "X = np.moveaxis(X, [0], [2])\n",
    "X = torch.tensor(X, dtype=torch.float32)\n",
    "y = torch.tensor(dataset.iloc[backcandles:, -1].values, dtype=torch.float32).reshape(-1, 1)"
   ]
  },
  {
   "cell_type": "code",
   "execution_count": null,
   "metadata": {},
   "outputs": [],
   "source": [
    "# split\n",
    "split = int(len(X) * 0.8)\n",
    "X_train, X_test = X[:split], X[split:]\n",
    "y_train, y_test = y[:split], y[split:]"
   ]
  },
  {
   "cell_type": "code",
   "execution_count": null,
   "metadata": {},
   "outputs": [],
   "source": [
    "# LSTM model\n",
    "class LSTMModel(nn.Module):\n",
    "    def __init__(self, input_size, hidden_size, num_layers=1):\n",
    "        super(LSTMModel, self).__init__()\n",
    "        self.hidden_size = hidden_size\n",
    "        self.num_layers = num_layers\n",
    "        self.lstm = nn.LSTM(input_size, hidden_size, num_layers, batch_first=True)\n",
    "        self.fc = nn.Linear(hidden_size, 1)\n",
    "\n",
    "    def forward(self, x):\n",
    "        h0 = torch.zeros(self.num_layers, x.size(0), self.hidden_size).to(x.device)\n",
    "        c0 = torch.zeros(self.num_layers, x.size(0), self.hidden_size).to(x.device)\n",
    "        out, _ = self.lstm(x, (h0, c0))\n",
    "        out = self.fc(out[:, -1, :])\n",
    "        return out"
   ]
  },
  {
   "cell_type": "code",
   "execution_count": null,
   "metadata": {},
   "outputs": [],
   "source": [
    "# parameters\n",
    "input_size = X.shape[2]\n",
    "hidden_size = 256\n",
    "num_layers = 2\n",
    "num_epochs = 50\n",
    "batch_size = 15\n",
    "learning_rate = 0.0005"
   ]
  },
  {
   "cell_type": "code",
   "execution_count": null,
   "metadata": {},
   "outputs": [],
   "source": [
    "model = LSTMModel(input_size, hidden_size, num_layers)\n",
    "optimizer = torch.optim.Adam(model.parameters(), lr=learning_rate)\n",
    "criterion = nn.MSELoss()"
   ]
  },
  {
   "cell_type": "code",
   "execution_count": null,
   "metadata": {},
   "outputs": [],
   "source": [
    "# train\n",
    "for epoch in range(num_epochs):\n",
    "    model.train()\n",
    "    outputs = model(X_train)\n",
    "    loss = criterion(outputs, y_train)\n",
    "    optimizer.zero_grad()\n",
    "    loss.backward()\n",
    "    optimizer.step()\n",
    "    if (epoch + 1) % 10 == 0:\n",
    "        print(f'Epoch [{epoch + 1}/{num_epochs}], Loss: {loss.item():.4f}')"
   ]
  },
  {
   "cell_type": "code",
   "execution_count": null,
   "metadata": {},
   "outputs": [],
   "source": [
    "# eval\n",
    "model.eval()\n",
    "with torch.no_grad():\n",
    "    y_pred = model(X_test)\n"
   ]
  },
  {
   "cell_type": "code",
   "execution_count": null,
   "metadata": {},
   "outputs": [],
   "source": [
    "dataset.head()"
   ]
  },
  {
   "cell_type": "code",
   "execution_count": null,
   "metadata": {},
   "outputs": [],
   "source": [
    "# plot\n",
    "plt.figure(figsize=(16, 8))\n",
    "plt.plot(y_test.numpy(), color='black', label='Test')\n",
    "plt.plot(y_pred.numpy(), color='green', label='Prediction')\n",
    "plt.plot(y_pred.numpy(), color='green', label='Prediction')\n",
    "plt.legend()\n",
    "plt.show()"
   ]
  }
 ],
 "metadata": {
  "kernelspec": {
   "display_name": "Python 3",
   "language": "python",
   "name": "python3"
  },
  "language_info": {
   "codemirror_mode": {
    "name": "ipython",
    "version": 3
   },
   "file_extension": ".py",
   "mimetype": "text/x-python",
   "name": "python",
   "nbconvert_exporter": "python",
   "pygments_lexer": "ipython3",
   "version": "3.11.6"
  }
 },
 "nbformat": 4,
 "nbformat_minor": 2
}
