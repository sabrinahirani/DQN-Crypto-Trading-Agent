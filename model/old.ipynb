{
 "cells": [
  {
   "cell_type": "code",
   "execution_count": 1,
   "metadata": {},
   "outputs": [],
   "source": [
    "import torch\n",
    "import torch.nn as nn"
   ]
  },
  {
   "cell_type": "code",
   "execution_count": 2,
   "metadata": {},
   "outputs": [],
   "source": [
    "device = torch.device('cuda' if torch.cuda.is_available() else 'cpu')"
   ]
  },
  {
   "cell_type": "code",
   "execution_count": 3,
   "metadata": {},
   "outputs": [
    {
     "data": {
      "text/plain": [
       "False"
      ]
     },
     "execution_count": 3,
     "metadata": {},
     "output_type": "execute_result"
    }
   ],
   "source": [
    "torch.cuda.is_available()"
   ]
  },
  {
   "cell_type": "code",
   "execution_count": 4,
   "metadata": {},
   "outputs": [],
   "source": [
    "input_size = 0 #TODO\n",
    "hidden_size = 500 #TODO\n",
    "num_classes = 10\n",
    "num_epochs = 2\n",
    "batch_size = 100\n",
    "learning_rate = 0.001"
   ]
  },
  {
   "cell_type": "code",
   "execution_count": 4,
   "metadata": {},
   "outputs": [],
   "source": [
    "import torch\n",
    "from torch.utils.data import Dataset, DataLoader\n",
    "import pandas as pd\n",
    "\n",
    "class CustomDataset(Dataset):\n",
    "    def __init__(self, csv_file, transform=None):\n",
    "        self.data = pd.read_csv(csv_file)\n",
    "        self.transform = transform\n",
    "\n",
    "    def __len__(self):\n",
    "        return len(self.data)\n",
    "\n",
    "    def __getitem__(self, idx):\n",
    "        if torch.is_tensor(idx):\n",
    "            idx = idx.tolist()\n",
    "\n",
    "        sample = {\n",
    "            'date': self.data.iloc[idx, 0], \n",
    "            'close': self.data.iloc[idx, 2],\n",
    "            'open': self.data.iloc[idx, 5], \n",
    "            'high': self.data.iloc[idx, 3], \n",
    "            'low': self.data.iloc[idx, 4],\n",
    "            'volume': self.data.iloc[idx, 6]\n",
    "        }\n",
    "\n",
    "        if self.transform:\n",
    "            sample = self.transform(sample)\n",
    "\n",
    "        return sample\n",
    "\n",
    "\n",
    "btc_csv_file = './data/BTC-USD-1d.csv'\n",
    "btc_custom_dataset = CustomDataset(btc_csv_file)\n",
    "\n",
    "eth_csv_file = './data/ETH-USD-1d.csv'\n",
    "eth_custom_dataset = CustomDataset(eth_csv_file)\n",
    "\n",
    "xrp_csv_file = './data/XRP-USD-1d.csv'\n",
    "xrp_custom_dataset = CustomDataset(xrp_csv_file)\n",
    "\n",
    "ltc_csv_file = './data/LTC-USD-1d.csv'\n",
    "ltc_custom_dataset = CustomDataset(ltc_csv_file)\n",
    "\n",
    "doge_csv_file = './data/DOGE-USD-1d.csv'\n",
    "doge_custom_dataset = CustomDataset(doge_csv_file)"
   ]
  },
  {
   "cell_type": "code",
   "execution_count": 5,
   "metadata": {},
   "outputs": [],
   "source": [
    "from sklearn.model_selection import train_test_split\n",
    "\n",
    "btc_train_indices, btc_test_indices = train_test_split(range(len(btc_custom_dataset)), test_size=0.2, random_state=42)\n",
    "eth_train_indices, eth_test_indices = train_test_split(range(len(eth_custom_dataset)), test_size=0.2, random_state=42)\n",
    "xrp_train_indices, xrp_test_indices = train_test_split(range(len(xrp_custom_dataset)), test_size=0.2, random_state=42)\n",
    "ltc_train_indices, ltc_test_indices = train_test_split(range(len(ltc_custom_dataset)), test_size=0.2, random_state=42)\n",
    "doge_train_indices, doge_test_indices = train_test_split(range(len(doge_custom_dataset)), test_size=0.2, random_state=42)"
   ]
  },
  {
   "cell_type": "code",
   "execution_count": null,
   "metadata": {},
   "outputs": [],
   "source": [
    "btc_train_loader = torch.utils.data.DataLoader(dataset=btc_train_indices, batch_size=batch_size)\n",
    "eth_train_loader = torch.utils.data.DataLoader(dataset=eth_train_indices, batch_size=batch_size)\n",
    "xrp_train_loader = torch.utils.data.DataLoader(dataset=xrp_train_indices, batch_size=batch_size)\n",
    "ltc_train_loader = torch.utils.data.DataLoader(dataset=ltc_train_indices, batch_size=batch_size)\n",
    "doge_train_loader = torch.utils.data.DataLoader(dataset=doge_train_indices, batch_size=batch_size)\n",
    "\n",
    "\n",
    "btc_test_loader = torch.utils.data.DataLoader(dataset=btc_test_indices, batch_size=batch_size)\n",
    "eth_test_loader = torch.utils.data.DataLoader(dataset=eth_test_indices, batch_size=batch_size)\n",
    "xrp_test_loader = torch.utils.data.DataLoader(dataset=xrp_test_indices, batch_size=batch_size)\n",
    "ltc_test_loader = torch.utils.data.DataLoader(dataset=ltc_test_indices, batch_size=batch_size)\n",
    "doge_test_loader = torch.utils.data.DataLoader(dataset=doge_test_indices, batch_size=batch_size)\n",
    "\n",
    "train_loader = [btc_train_loader, eth_train_loader, xrp_train_loader, \n",
    "                ltc_train_loader, doge_train_loader]\n",
    "test_loader = [btc_test_loader, eth_test_loader, xrp_test_loader, \n",
    "               ltc_test_loader, doge_test_loader]"
   ]
  },
  {
   "cell_type": "code",
   "execution_count": null,
   "metadata": {},
   "outputs": [],
   "source": [
    "class NeuralNet(nn.Module):\n",
    "    def __init__(self, input_size, hidden_size, num_classes):\n",
    "        super(NeuralNet, self).__init__()\n",
    "        self.input_size = input_size\n",
    "        self.l1 = nn.Linear(input_size, hidden_size) \n",
    "        self.relu = nn.ReLU()\n",
    "        self.l2 = nn.Linear(hidden_size, num_classes)  \n",
    "    \n",
    "    def forward(self, x):\n",
    "        out = self.l1(x)\n",
    "        out = self.relu(out)\n",
    "        out = self.l2(out)\n",
    "        # no activation and no softmax at the end\n",
    "        return out\n",
    "\n",
    "model = NeuralNet(input_size, hidden_size, num_classes).to(device)"
   ]
  }
 ],
 "metadata": {
  "kernelspec": {
   "display_name": "Python 3",
   "language": "python",
   "name": "python3"
  },
  "language_info": {
   "codemirror_mode": {
    "name": "ipython",
    "version": 3
   },
   "file_extension": ".py",
   "mimetype": "text/x-python",
   "name": "python",
   "nbconvert_exporter": "python",
   "pygments_lexer": "ipython3",
   "version": "3.11.6"
  }
 },
 "nbformat": 4,
 "nbformat_minor": 2
}
