{
 "cells": [
  {
   "cell_type": "code",
   "execution_count": 1,
   "metadata": {},
   "outputs": [],
   "source": [
    "import torch\n",
    "import torch.nn as nn"
   ]
  },
  {
   "cell_type": "code",
   "execution_count": 2,
   "metadata": {},
   "outputs": [],
   "source": [
    "device = torch.device('cuda' if torch.cuda.is_available() else 'cpu')"
   ]
  },
  {
   "cell_type": "code",
   "execution_count": 3,
   "metadata": {},
   "outputs": [
    {
     "data": {
      "text/plain": [
       "False"
      ]
     },
     "execution_count": 3,
     "metadata": {},
     "output_type": "execute_result"
    }
   ],
   "source": [
    "torch.cuda.is_available()"
   ]
  },
  {
   "cell_type": "code",
   "execution_count": 4,
   "metadata": {},
   "outputs": [],
   "source": [
    "input_size = 6\n",
    "hidden_size = 500 \n",
    "num_classes = 10\n",
    "num_epochs = 2\n",
    "batch_size = 100\n",
    "learning_rate = 0.001"
   ]
  },
  {
   "cell_type": "code",
   "execution_count": 5,
   "metadata": {},
   "outputs": [],
   "source": [
    "import torch\n",
    "from torch.utils.data import Dataset, DataLoader\n",
    "import pandas as pd\n",
    "\n",
    "class CustomDataset(Dataset):\n",
    "    def __init__(self, csv_file, transform=None):\n",
    "        self.data = pd.read_csv(csv_file)\n",
    "        self.transform = transform\n",
    "\n",
    "    def __len__(self):\n",
    "        return len(self.data)\n",
    "\n",
    "    def __getitem__(self, idx):\n",
    "        if torch.is_tensor(idx):\n",
    "            idx = idx.tolist()\n",
    "\n",
    "        sample = {\n",
    "            'date': self.data.iloc[idx, 0], \n",
    "            'close': self.data.iloc[idx, 2],\n",
    "            'open': self.data.iloc[idx, 5], \n",
    "            'high': self.data.iloc[idx, 3], \n",
    "            'low': self.data.iloc[idx, 4],\n",
    "            'volume': self.data.iloc[idx, 6]\n",
    "        }\n",
    "\n",
    "        if self.transform:\n",
    "            sample = self.transform(sample)\n",
    "\n",
    "        return sample\n",
    "\n",
    "\n",
    "btc_csv_file = './data/BTC-USD-1d.csv'\n",
    "btc_custom_dataset = CustomDataset(btc_csv_file)\n",
    "\n",
    "eth_csv_file = './data/ETH-USD-1d.csv'\n",
    "eth_custom_dataset = CustomDataset(eth_csv_file)\n",
    "\n",
    "xrp_csv_file = './data/XRP-USD-1d.csv'\n",
    "xrp_custom_dataset = CustomDataset(xrp_csv_file)\n",
    "\n",
    "ltc_csv_file = './data/LTC-USD-1d.csv'\n",
    "ltc_custom_dataset = CustomDataset(ltc_csv_file)\n",
    "\n",
    "doge_csv_file = './data/DOGE-USD-1d.csv'\n",
    "doge_custom_dataset = CustomDataset(doge_csv_file)"
   ]
  },
  {
   "cell_type": "code",
   "execution_count": 6,
   "metadata": {},
   "outputs": [],
   "source": [
    "from sklearn.model_selection import train_test_split\n",
    "\n",
    "btc_train_indices, btc_test_indices = train_test_split(range(len(btc_custom_dataset)), test_size=0.2, random_state=42)\n",
    "eth_train_indices, eth_test_indices = train_test_split(range(len(eth_custom_dataset)), test_size=0.2, random_state=42)\n",
    "xrp_train_indices, xrp_test_indices = train_test_split(range(len(xrp_custom_dataset)), test_size=0.2, random_state=42)\n",
    "ltc_train_indices, ltc_test_indices = train_test_split(range(len(ltc_custom_dataset)), test_size=0.2, random_state=42)\n",
    "doge_train_indices, doge_test_indices = train_test_split(range(len(doge_custom_dataset)), test_size=0.2, random_state=42)"
   ]
  },
  {
   "cell_type": "code",
   "execution_count": 7,
   "metadata": {},
   "outputs": [],
   "source": [
    "btc_train_loader = torch.utils.data.DataLoader(dataset=btc_train_indices, batch_size=batch_size)\n",
    "eth_train_loader = torch.utils.data.DataLoader(dataset=eth_train_indices, batch_size=batch_size)\n",
    "xrp_train_loader = torch.utils.data.DataLoader(dataset=xrp_train_indices, batch_size=batch_size)\n",
    "ltc_train_loader = torch.utils.data.DataLoader(dataset=ltc_train_indices, batch_size=batch_size)\n",
    "doge_train_loader = torch.utils.data.DataLoader(dataset=doge_train_indices, batch_size=batch_size)\n",
    "\n",
    "\n",
    "btc_test_loader = torch.utils.data.DataLoader(dataset=btc_test_indices, batch_size=batch_size)\n",
    "eth_test_loader = torch.utils.data.DataLoader(dataset=eth_test_indices, batch_size=batch_size)\n",
    "xrp_test_loader = torch.utils.data.DataLoader(dataset=xrp_test_indices, batch_size=batch_size)\n",
    "ltc_test_loader = torch.utils.data.DataLoader(dataset=ltc_test_indices, batch_size=batch_size)\n",
    "doge_test_loader = torch.utils.data.DataLoader(dataset=doge_test_indices, batch_size=batch_size)\n",
    "\n",
    "train_loader = [btc_train_loader, eth_train_loader, xrp_train_loader, \n",
    "                ltc_train_loader, doge_train_loader]\n",
    "test_loader = [btc_test_loader, eth_test_loader, xrp_test_loader, \n",
    "               ltc_test_loader, doge_test_loader]"
   ]
  },
  {
   "cell_type": "code",
   "execution_count": 9,
   "metadata": {},
   "outputs": [],
   "source": [
    "class NeuralNet(nn.Module):\n",
    "    def __init__(self, input_size, hidden_size, output_size):\n",
    "        super(NeuralNet, self).__init__()\n",
    "        self.fc1 = nn.Linear(input_size, hidden_size)\n",
    "        self.relu = nn.ReLU()\n",
    "        self.fc2 = nn.Linear(hidden_size, output_size)\n",
    "\n",
    "    def forward(self, x):\n",
    "        out = self.fc1(x)\n",
    "        out = self.relu(out)\n",
    "        out = self.fc2(out)\n",
    "        return out\n",
    "\n",
    "model = NeuralNet(input_size, hidden_size, num_classes).to(device)"
   ]
  },
  {
   "cell_type": "code",
   "execution_count": 10,
   "metadata": {},
   "outputs": [],
   "source": [
    "criterion = nn.CrossEntropyLoss()\n",
    "optimizer = torch.optim.Adam(model.parameters(), lr=learning_rate)  "
   ]
  },
  {
   "cell_type": "code",
   "execution_count": 11,
   "metadata": {},
   "outputs": [
    {
     "ename": "IndexError",
     "evalue": "too many indices for tensor of dimension 1",
     "output_type": "error",
     "traceback": [
      "\u001b[1;31m---------------------------------------------------------------------------\u001b[0m",
      "\u001b[1;31mIndexError\u001b[0m                                Traceback (most recent call last)",
      "Cell \u001b[1;32mIn[11], line 7\u001b[0m\n\u001b[0;32m      2\u001b[0m \u001b[38;5;28;01mfor\u001b[39;00m epoch \u001b[38;5;129;01min\u001b[39;00m \u001b[38;5;28mrange\u001b[39m(num_epochs):\n\u001b[0;32m      3\u001b[0m     \u001b[38;5;28;01mfor\u001b[39;00m i, data \u001b[38;5;129;01min\u001b[39;00m \u001b[38;5;28menumerate\u001b[39m(btc_train_loader):\n\u001b[0;32m      4\u001b[0m         \u001b[38;5;66;03m# Extract data\u001b[39;00m\n\u001b[0;32m      5\u001b[0m         \u001b[38;5;66;03m# Note: Adjust this part depending on how you've structured your data loader\u001b[39;00m\n\u001b[0;32m      6\u001b[0m         \u001b[38;5;66;03m# You might need to handle different datasets separately if they have different structures\u001b[39;00m\n\u001b[1;32m----> 7\u001b[0m         inputs, labels \u001b[38;5;241m=\u001b[39m \u001b[43mdata\u001b[49m\u001b[43m[\u001b[49m\u001b[38;5;124;43m'\u001b[39;49m\u001b[38;5;124;43minput\u001b[39;49m\u001b[38;5;124;43m'\u001b[39;49m\u001b[43m]\u001b[49m, data[\u001b[38;5;124m'\u001b[39m\u001b[38;5;124mtarget\u001b[39m\u001b[38;5;124m'\u001b[39m]\n\u001b[0;32m      8\u001b[0m         inputs \u001b[38;5;241m=\u001b[39m inputs\u001b[38;5;241m.\u001b[39mto(device)\n\u001b[0;32m      9\u001b[0m         labels \u001b[38;5;241m=\u001b[39m labels\u001b[38;5;241m.\u001b[39mto(device)\n",
      "\u001b[1;31mIndexError\u001b[0m: too many indices for tensor of dimension 1"
     ]
    }
   ],
   "source": [
    "total_step = len(btc_train_loader)\n",
    "for epoch in range(num_epochs):\n",
    "    for i, data in enumerate(btc_train_loader):\n",
    "        # Extract data\n",
    "        # Note: Adjust this part depending on how you've structured your data loader\n",
    "        # You might need to handle different datasets separately if they have different structures\n",
    "        inputs, labels = data['input'], data['target']\n",
    "        inputs = inputs.to(device)\n",
    "        labels = labels.to(device)\n",
    "        \n",
    "        # Forward pass\n",
    "        outputs = model(inputs)\n",
    "        loss = criterion(outputs, labels)\n",
    "        \n",
    "        # Backward and optimize\n",
    "        optimizer.zero_grad()\n",
    "        loss.backward()\n",
    "        optimizer.step()\n",
    "        \n",
    "        if (i+1) % 100 == 0:\n",
    "            print ('Epoch [{}/{}], Step [{}/{}], Loss: {:.4f}' \n",
    "                   .format(epoch+1, num_epochs, i+1, total_step, loss.item()))\n",
    "\n",
    "print('Finished Training')"
   ]
  },
  {
   "cell_type": "code",
   "execution_count": null,
   "metadata": {},
   "outputs": [],
   "source": [
    "# Evaluation\n",
    "model.eval()  # Set the model to evaluation mode\n",
    "\n",
    "total_correct = 0\n",
    "total_samples = 0\n",
    "total_loss = 0\n",
    "\n",
    "with torch.no_grad():\n",
    "    for data in btc_test_loader:\n",
    "        inputs, labels = data['input'], data['target']\n",
    "        inputs = inputs.to(device)\n",
    "        labels = labels.to(device)\n",
    "        \n",
    "        outputs = model(inputs)\n",
    "        loss = criterion(outputs, labels)\n",
    "        total_loss += loss.item()\n",
    "        \n",
    "        _, predicted = torch.max(outputs, 1)\n",
    "        total_samples += labels.size(0)\n",
    "        total_correct += (predicted == labels).sum().item()\n",
    "\n",
    "    # Calculate average loss and accuracy\n",
    "    avg_loss = total_loss / len(btc_test_loader)\n",
    "    accuracy = 100 * total_correct / total_samples\n",
    "    print(f'Test Loss: {avg_loss:.4f}, Accuracy: {accuracy:.2f}%')\n",
    "\n",
    "print('Finished Testing')"
   ]
  }
 ],
 "metadata": {
  "kernelspec": {
   "display_name": "Python 3",
   "language": "python",
   "name": "python3"
  },
  "language_info": {
   "codemirror_mode": {
    "name": "ipython",
    "version": 3
   },
   "file_extension": ".py",
   "mimetype": "text/x-python",
   "name": "python",
   "nbconvert_exporter": "python",
   "pygments_lexer": "ipython3",
   "version": "3.11.6"
  }
 },
 "nbformat": 4,
 "nbformat_minor": 2
}
